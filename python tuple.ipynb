{
 "cells": [
  {
   "cell_type": "code",
   "execution_count": 1,
   "id": "c2c13397",
   "metadata": {},
   "outputs": [],
   "source": [
    "# create your first tuple\n",
    "\n",
    "tuple1 = ('chandika',11,2.3)"
   ]
  },
  {
   "cell_type": "code",
   "execution_count": 2,
   "id": "794d927e",
   "metadata": {},
   "outputs": [
    {
     "name": "stdout",
     "output_type": "stream",
     "text": [
      "('chandika', 11, 2.3)\n"
     ]
    }
   ],
   "source": [
    "print(tuple1)"
   ]
  },
  {
   "cell_type": "code",
   "execution_count": 3,
   "id": "35a3b354",
   "metadata": {},
   "outputs": [
    {
     "data": {
      "text/plain": [
       "tuple"
      ]
     },
     "execution_count": 3,
     "metadata": {},
     "output_type": "execute_result"
    }
   ],
   "source": [
    "type(tuple1)"
   ]
  },
  {
   "cell_type": "code",
   "execution_count": 4,
   "id": "9952efc0",
   "metadata": {},
   "outputs": [
    {
     "name": "stdout",
     "output_type": "stream",
     "text": [
      "chandika\n"
     ]
    }
   ],
   "source": [
    "print(tuple1[0])"
   ]
  },
  {
   "cell_type": "code",
   "execution_count": 5,
   "id": "557ad669",
   "metadata": {},
   "outputs": [
    {
     "name": "stdout",
     "output_type": "stream",
     "text": [
      "2.3\n"
     ]
    }
   ],
   "source": [
    "print(tuple1[2])"
   ]
  },
  {
   "cell_type": "code",
   "execution_count": 6,
   "id": "e5628860",
   "metadata": {},
   "outputs": [],
   "source": [
    "t1=('chandika',2.2,5)"
   ]
  },
  {
   "cell_type": "code",
   "execution_count": 7,
   "id": "19dd4e48",
   "metadata": {},
   "outputs": [
    {
     "name": "stdout",
     "output_type": "stream",
     "text": [
      "('chandika', 2.2, 5)\n"
     ]
    }
   ],
   "source": [
    "print(t1)"
   ]
  },
  {
   "cell_type": "code",
   "execution_count": 8,
   "id": "b1046684",
   "metadata": {},
   "outputs": [
    {
     "data": {
      "text/plain": [
       "tuple"
      ]
     },
     "execution_count": 8,
     "metadata": {},
     "output_type": "execute_result"
    }
   ],
   "source": [
    "type(t1)"
   ]
  },
  {
   "cell_type": "code",
   "execution_count": 9,
   "id": "04c67a3a",
   "metadata": {},
   "outputs": [],
   "source": [
    "t2=t1+('prabhath',22)\n",
    "# Concatenate two tuples"
   ]
  },
  {
   "cell_type": "code",
   "execution_count": 10,
   "id": "8d5fe25d",
   "metadata": {},
   "outputs": [
    {
     "name": "stdout",
     "output_type": "stream",
     "text": [
      "('chandika', 2.2, 5, 'prabhath', 22)\n"
     ]
    }
   ],
   "source": [
    "print(t2)"
   ]
  },
  {
   "cell_type": "code",
   "execution_count": 11,
   "id": "474289b3",
   "metadata": {},
   "outputs": [
    {
     "data": {
      "text/plain": [
       "('chandika', 2.2, 5)"
      ]
     },
     "execution_count": 11,
     "metadata": {},
     "output_type": "execute_result"
    }
   ],
   "source": [
    "#slice from index 0 to to index 2\n",
    "t2[0:3]"
   ]
  },
  {
   "cell_type": "code",
   "execution_count": 12,
   "id": "23f7f657",
   "metadata": {},
   "outputs": [
    {
     "data": {
      "text/plain": [
       "5"
      ]
     },
     "execution_count": 12,
     "metadata": {},
     "output_type": "execute_result"
    }
   ],
   "source": [
    "len(t2)"
   ]
  },
  {
   "cell_type": "code",
   "execution_count": 14,
   "id": "3cae36e3",
   "metadata": {},
   "outputs": [],
   "source": [
    "# sorting\n",
    "\n",
    "s=(0,5,6,7,8,3,6,5,2)"
   ]
  },
  {
   "cell_type": "code",
   "execution_count": 15,
   "id": "b732e863",
   "metadata": {},
   "outputs": [],
   "source": [
    "sSorted = sorted(s)"
   ]
  },
  {
   "cell_type": "code",
   "execution_count": 16,
   "id": "af75bde5",
   "metadata": {},
   "outputs": [
    {
     "data": {
      "text/plain": [
       "[0, 2, 3, 5, 5, 6, 6, 7, 8]"
      ]
     },
     "execution_count": 16,
     "metadata": {},
     "output_type": "execute_result"
    }
   ],
   "source": [
    "sSorted"
   ]
  },
  {
   "cell_type": "code",
   "execution_count": 17,
   "id": "f0e74cd3",
   "metadata": {},
   "outputs": [],
   "source": [
    "# create a nest tuple\n",
    "\n",
    "nt=(1,2,('chandika','prabhath'),(4,5),('prabhath',(1,2)))"
   ]
  },
  {
   "cell_type": "code",
   "execution_count": 18,
   "id": "e527f725",
   "metadata": {},
   "outputs": [
    {
     "name": "stdout",
     "output_type": "stream",
     "text": [
      "(1, 2, ('chandika', 'prabhath'), (4, 5), ('prabhath', (1, 2)))\n"
     ]
    }
   ],
   "source": [
    "print(nt)"
   ]
  },
  {
   "cell_type": "code",
   "execution_count": 19,
   "id": "575aa79a",
   "metadata": {},
   "outputs": [
    {
     "data": {
      "text/plain": [
       "tuple"
      ]
     },
     "execution_count": 19,
     "metadata": {},
     "output_type": "execute_result"
    }
   ],
   "source": [
    "type(nt)"
   ]
  },
  {
   "cell_type": "code",
   "execution_count": 20,
   "id": "704cd23a",
   "metadata": {},
   "outputs": [
    {
     "name": "stdout",
     "output_type": "stream",
     "text": [
      "('chandika', 'prabhath')\n"
     ]
    }
   ],
   "source": [
    "print(nt[2])"
   ]
  },
  {
   "cell_type": "code",
   "execution_count": 21,
   "id": "637caf00",
   "metadata": {},
   "outputs": [
    {
     "name": "stdout",
     "output_type": "stream",
     "text": [
      "chandika\n"
     ]
    }
   ],
   "source": [
    "print(nt[2][0])"
   ]
  },
  {
   "cell_type": "code",
   "execution_count": 22,
   "id": "321fb6bb",
   "metadata": {},
   "outputs": [
    {
     "name": "stdout",
     "output_type": "stream",
     "text": [
      "1\n"
     ]
    }
   ],
   "source": [
    "# Print the first element in the second nested tuples\n",
    "print(nt[4][1][0])"
   ]
  },
  {
   "cell_type": "code",
   "execution_count": null,
   "id": "7339bbf8",
   "metadata": {},
   "outputs": [],
   "source": []
  }
 ],
 "metadata": {
  "kernelspec": {
   "display_name": "Python 3 (ipykernel)",
   "language": "python",
   "name": "python3"
  },
  "language_info": {
   "codemirror_mode": {
    "name": "ipython",
    "version": 3
   },
   "file_extension": ".py",
   "mimetype": "text/x-python",
   "name": "python",
   "nbconvert_exporter": "python",
   "pygments_lexer": "ipython3",
   "version": "3.9.12"
  }
 },
 "nbformat": 4,
 "nbformat_minor": 5
}
