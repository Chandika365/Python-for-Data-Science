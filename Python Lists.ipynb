{
 "cells": [
  {
   "cell_type": "code",
   "execution_count": 1,
   "id": "98c7f9ab",
   "metadata": {},
   "outputs": [],
   "source": [
    "#create lists\n",
    "\n",
    "l = [\"Chandika Jayasanka\", 2001,2.9,76]"
   ]
  },
  {
   "cell_type": "code",
   "execution_count": 2,
   "id": "89ce56a6",
   "metadata": {},
   "outputs": [
    {
     "name": "stdout",
     "output_type": "stream",
     "text": [
      "['Chandika Jayasanka', 2001, 2.9, 76]\n"
     ]
    }
   ],
   "source": [
    "print(l)"
   ]
  },
  {
   "cell_type": "code",
   "execution_count": 3,
   "id": "558a0323",
   "metadata": {},
   "outputs": [],
   "source": [
    "# add new elements using extend\n",
    "l.extend(\"prabhath\")"
   ]
  },
  {
   "cell_type": "code",
   "execution_count": 4,
   "id": "a6435be6",
   "metadata": {},
   "outputs": [
    {
     "name": "stdout",
     "output_type": "stream",
     "text": [
      "['Chandika Jayasanka', 2001, 2.9, 76, 'p', 'r', 'a', 'b', 'h', 'a', 't', 'h']\n"
     ]
    }
   ],
   "source": [
    "print(l)"
   ]
  },
  {
   "cell_type": "code",
   "execution_count": 5,
   "id": "aa8da500",
   "metadata": {},
   "outputs": [],
   "source": [
    "l.extend('prabhath')"
   ]
  },
  {
   "cell_type": "code",
   "execution_count": 6,
   "id": "7f2bcdc4",
   "metadata": {},
   "outputs": [
    {
     "name": "stdout",
     "output_type": "stream",
     "text": [
      "['Chandika Jayasanka', 2001, 2.9, 76, 'p', 'r', 'a', 'b', 'h', 'a', 't', 'h', 'p', 'r', 'a', 'b', 'h', 'a', 't', 'h']\n"
     ]
    }
   ],
   "source": [
    "print(l)"
   ]
  },
  {
   "cell_type": "code",
   "execution_count": 7,
   "id": "146fb8e4",
   "metadata": {},
   "outputs": [],
   "source": [
    "l.extend([\"prabhath\"])"
   ]
  },
  {
   "cell_type": "code",
   "execution_count": 8,
   "id": "a149cc7f",
   "metadata": {},
   "outputs": [
    {
     "name": "stdout",
     "output_type": "stream",
     "text": [
      "['Chandika Jayasanka', 2001, 2.9, 76, 'p', 'r', 'a', 'b', 'h', 'a', 't', 'h', 'p', 'r', 'a', 'b', 'h', 'a', 't', 'h', 'prabhath']\n"
     ]
    }
   ],
   "source": [
    "print(l)"
   ]
  },
  {
   "cell_type": "code",
   "execution_count": 9,
   "id": "25d5c70e",
   "metadata": {},
   "outputs": [],
   "source": [
    "# add new elements using append\n",
    "l=[\"chandika jayasanka\"]"
   ]
  },
  {
   "cell_type": "code",
   "execution_count": 10,
   "id": "2db893eb",
   "metadata": {},
   "outputs": [
    {
     "ename": "NameError",
     "evalue": "name 'print9l' is not defined",
     "output_type": "error",
     "traceback": [
      "\u001b[1;31m---------------------------------------------------------------------------\u001b[0m",
      "\u001b[1;31mNameError\u001b[0m                                 Traceback (most recent call last)",
      "Input \u001b[1;32mIn [10]\u001b[0m, in \u001b[0;36m<cell line: 1>\u001b[1;34m()\u001b[0m\n\u001b[1;32m----> 1\u001b[0m \u001b[43mprint9l\u001b[49m\n",
      "\u001b[1;31mNameError\u001b[0m: name 'print9l' is not defined"
     ]
    }
   ],
   "source": [
    "print9l"
   ]
  },
  {
   "cell_type": "code",
   "execution_count": 11,
   "id": "799b7275",
   "metadata": {},
   "outputs": [
    {
     "name": "stdout",
     "output_type": "stream",
     "text": [
      "['chandika jayasanka']\n"
     ]
    }
   ],
   "source": [
    "print(l)"
   ]
  },
  {
   "cell_type": "code",
   "execution_count": 12,
   "id": "2961b296",
   "metadata": {},
   "outputs": [],
   "source": [
    "l.append([\"prabhath\"])"
   ]
  },
  {
   "cell_type": "code",
   "execution_count": 13,
   "id": "dbc4c85e",
   "metadata": {},
   "outputs": [
    {
     "name": "stdout",
     "output_type": "stream",
     "text": [
      "['chandika jayasanka', ['prabhath']]\n"
     ]
    }
   ],
   "source": [
    "print(l)"
   ]
  },
  {
   "cell_type": "code",
   "execution_count": 14,
   "id": "55347f7d",
   "metadata": {},
   "outputs": [],
   "source": [
    "l.extend([\"prabhath\"])"
   ]
  },
  {
   "cell_type": "code",
   "execution_count": 15,
   "id": "41b1e168",
   "metadata": {},
   "outputs": [
    {
     "name": "stdout",
     "output_type": "stream",
     "text": [
      "['chandika jayasanka', ['prabhath'], 'prabhath']\n"
     ]
    }
   ],
   "source": [
    "print(l)"
   ]
  },
  {
   "cell_type": "code",
   "execution_count": 16,
   "id": "9d91a66a",
   "metadata": {},
   "outputs": [],
   "source": [
    "l[1] = 0\n",
    "#change elemenet based on index"
   ]
  },
  {
   "cell_type": "code",
   "execution_count": 17,
   "id": "f09b90c1",
   "metadata": {},
   "outputs": [
    {
     "name": "stdout",
     "output_type": "stream",
     "text": [
      "['chandika jayasanka', 0, 'prabhath']\n"
     ]
    }
   ],
   "source": [
    "print(l)"
   ]
  },
  {
   "cell_type": "code",
   "execution_count": 18,
   "id": "22a73117",
   "metadata": {},
   "outputs": [],
   "source": [
    "# delete elemenet\n",
    "\n",
    "del(l[1])"
   ]
  },
  {
   "cell_type": "code",
   "execution_count": 19,
   "id": "fc9364d3",
   "metadata": {},
   "outputs": [
    {
     "name": "stdout",
     "output_type": "stream",
     "text": [
      "['chandika jayasanka', 'prabhath']\n"
     ]
    }
   ],
   "source": [
    "print(l)"
   ]
  },
  {
   "cell_type": "code",
   "execution_count": 20,
   "id": "5e0458d9",
   "metadata": {},
   "outputs": [
    {
     "data": {
      "text/plain": [
       "['chandika', 'prabhath', 'jayasanka']"
      ]
     },
     "execution_count": 20,
     "metadata": {},
     "output_type": "execute_result"
    }
   ],
   "source": [
    "# convert string to a list usint split()\n",
    "'chandika prabhath jayasanka'.split()"
   ]
  },
  {
   "cell_type": "code",
   "execution_count": 22,
   "id": "38d5d071",
   "metadata": {},
   "outputs": [
    {
     "data": {
      "text/plain": [
       "['c', 'h', 'a', 'n', 'd', 'i', 'k', 'a']"
      ]
     },
     "execution_count": 22,
     "metadata": {},
     "output_type": "execute_result"
    }
   ],
   "source": [
    "#split the string using comma\n",
    "'c,h,a,n,d,i,k,a'.split(',')"
   ]
  },
  {
   "cell_type": "code",
   "execution_count": 23,
   "id": "a50c087a",
   "metadata": {},
   "outputs": [
    {
     "data": {
      "text/plain": [
       "['c,h,a,n,d,i,k,a']"
      ]
     },
     "execution_count": 23,
     "metadata": {},
     "output_type": "execute_result"
    }
   ],
   "source": [
    "'c,h,a,n,d,i,k,a'.split()"
   ]
  },
  {
   "cell_type": "code",
   "execution_count": 24,
   "id": "1b63e333",
   "metadata": {},
   "outputs": [
    {
     "data": {
      "text/plain": [
       "[1, 'a', 2, 3, 'd']"
      ]
     },
     "execution_count": 24,
     "metadata": {},
     "output_type": "execute_result"
    }
   ],
   "source": [
    "a=[1,'a']\n",
    "b=[2,3,'d']\n",
    "a+b"
   ]
  },
  {
   "cell_type": "code",
   "execution_count": null,
   "id": "70eec70b",
   "metadata": {},
   "outputs": [],
   "source": []
  }
 ],
 "metadata": {
  "kernelspec": {
   "display_name": "Python 3 (ipykernel)",
   "language": "python",
   "name": "python3"
  },
  "language_info": {
   "codemirror_mode": {
    "name": "ipython",
    "version": 3
   },
   "file_extension": ".py",
   "mimetype": "text/x-python",
   "name": "python",
   "nbconvert_exporter": "python",
   "pygments_lexer": "ipython3",
   "version": "3.9.12"
  }
 },
 "nbformat": 4,
 "nbformat_minor": 5
}
