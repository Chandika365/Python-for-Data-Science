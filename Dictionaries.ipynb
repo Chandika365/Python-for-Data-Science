{
 "cells": [
  {
   "cell_type": "code",
   "execution_count": 1,
   "id": "bf12e51a",
   "metadata": {},
   "outputs": [
    {
     "data": {
      "text/plain": [
       "{'k1': 1, 'k2': 'chandika', 'k3': [2, 2, 2], 'k4': 'prabhath'}"
      ]
     },
     "execution_count": 1,
     "metadata": {},
     "output_type": "execute_result"
    }
   ],
   "source": [
    "#Create a Dictionaries\n",
    "dict = {'k1':1,'k2':'chandika','k3':[2,2,2],'k4':'prabhath'}\n",
    "dict"
   ]
  },
  {
   "cell_type": "code",
   "execution_count": 2,
   "id": "d9075cd2",
   "metadata": {},
   "outputs": [
    {
     "data": {
      "text/plain": [
       "[2, 2, 2]"
      ]
     },
     "execution_count": 2,
     "metadata": {},
     "output_type": "execute_result"
    }
   ],
   "source": [
    "#Access to the value by the key\n",
    "dict[\"k3\"]"
   ]
  },
  {
   "cell_type": "code",
   "execution_count": 3,
   "id": "821543e3",
   "metadata": {},
   "outputs": [
    {
     "data": {
      "text/plain": [
       "'chandika'"
      ]
     },
     "execution_count": 3,
     "metadata": {},
     "output_type": "execute_result"
    }
   ],
   "source": [
    "dict[\"k2\"]"
   ]
  },
  {
   "cell_type": "code",
   "execution_count": 4,
   "id": "9e33799e",
   "metadata": {},
   "outputs": [
    {
     "data": {
      "text/plain": [
       "dict_keys(['k1', 'k2', 'k3', 'k4'])"
      ]
     },
     "execution_count": 4,
     "metadata": {},
     "output_type": "execute_result"
    }
   ],
   "source": [
    "# get the all keys\n",
    "\n",
    "dict.keys()"
   ]
  },
  {
   "cell_type": "code",
   "execution_count": 5,
   "id": "3519e1e9",
   "metadata": {},
   "outputs": [
    {
     "data": {
      "text/plain": [
       "dict_values([1, 'chandika', [2, 2, 2], 'prabhath'])"
      ]
     },
     "execution_count": 5,
     "metadata": {},
     "output_type": "execute_result"
    }
   ],
   "source": [
    "# get all the values in dictionarie\n",
    "dict.values()"
   ]
  },
  {
   "cell_type": "code",
   "execution_count": 6,
   "id": "48ddf784",
   "metadata": {},
   "outputs": [],
   "source": [
    "# Append value with key into dictionary\n",
    "\n",
    "dict['k2'] = 'chandika jayasanka'"
   ]
  },
  {
   "cell_type": "code",
   "execution_count": 7,
   "id": "d3b97c1d",
   "metadata": {},
   "outputs": [
    {
     "data": {
      "text/plain": [
       "{'k1': 1, 'k2': 'chandika jayasanka', 'k3': [2, 2, 2], 'k4': 'prabhath'}"
      ]
     },
     "execution_count": 7,
     "metadata": {},
     "output_type": "execute_result"
    }
   ],
   "source": [
    "dict"
   ]
  },
  {
   "cell_type": "code",
   "execution_count": 8,
   "id": "c500abce",
   "metadata": {},
   "outputs": [
    {
     "ename": "NameError",
     "evalue": "name 'k4' is not defined",
     "output_type": "error",
     "traceback": [
      "\u001b[1;31m---------------------------------------------------------------------------\u001b[0m",
      "\u001b[1;31mNameError\u001b[0m                                 Traceback (most recent call last)",
      "Input \u001b[1;32mIn [8]\u001b[0m, in \u001b[0;36m<cell line: 1>\u001b[1;34m()\u001b[0m\n\u001b[1;32m----> 1\u001b[0m \u001b[38;5;28;01mdel\u001b[39;00m(\u001b[38;5;28mdict\u001b[39m[\u001b[43mk4\u001b[49m])\n",
      "\u001b[1;31mNameError\u001b[0m: name 'k4' is not defined"
     ]
    }
   ],
   "source": [
    "# Delete entries by key\n",
    "del(dict[k4])"
   ]
  },
  {
   "cell_type": "code",
   "execution_count": 9,
   "id": "f7b01496",
   "metadata": {},
   "outputs": [
    {
     "data": {
      "text/plain": [
       "{'k1': 1, 'k2': 'chandika jayasanka', 'k3': [2, 2, 2], 'k4': 'prabhath'}"
      ]
     },
     "execution_count": 9,
     "metadata": {},
     "output_type": "execute_result"
    }
   ],
   "source": [
    "dict"
   ]
  },
  {
   "cell_type": "code",
   "execution_count": 10,
   "id": "d567dc56",
   "metadata": {},
   "outputs": [],
   "source": [
    "del(dict['k4'])"
   ]
  },
  {
   "cell_type": "code",
   "execution_count": 11,
   "id": "aa9f38d8",
   "metadata": {},
   "outputs": [
    {
     "data": {
      "text/plain": [
       "{'k1': 1, 'k2': 'chandika jayasanka', 'k3': [2, 2, 2]}"
      ]
     },
     "execution_count": 11,
     "metadata": {},
     "output_type": "execute_result"
    }
   ],
   "source": [
    "dict"
   ]
  },
  {
   "cell_type": "code",
   "execution_count": null,
   "id": "1a7299ff",
   "metadata": {},
   "outputs": [],
   "source": []
  }
 ],
 "metadata": {
  "kernelspec": {
   "display_name": "Python 3 (ipykernel)",
   "language": "python",
   "name": "python3"
  },
  "language_info": {
   "codemirror_mode": {
    "name": "ipython",
    "version": 3
   },
   "file_extension": ".py",
   "mimetype": "text/x-python",
   "name": "python",
   "nbconvert_exporter": "python",
   "pygments_lexer": "ipython3",
   "version": "3.9.12"
  }
 },
 "nbformat": 4,
 "nbformat_minor": 5
}
